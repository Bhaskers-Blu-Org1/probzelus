{
 "cells": [
  {
   "cell_type": "code",
   "execution_count": 1,
   "metadata": {},
   "outputs": [],
   "source": [
    "import csv\n",
    "import os\n",
    "from math import log10, inf\n",
    "from enum import Enum\n",
    "import numpy as np\n",
    "import matplotlib.pyplot as plt\n",
    "from pprint import pprint"
   ]
  },
  {
   "cell_type": "code",
   "execution_count": 2,
   "metadata": {},
   "outputs": [],
   "source": [
    "class Kind(Enum):\n",
    "    Acc = 'accuracy.csv'\n",
    "    Mem = 'mem-ideal.csv'\n",
    "    Perf = 'perf.csv'\n",
    "    Per_particle = 'per-particles.csv'\n",
    "    Per_step = 'per-step.csv'\n",
    "    Per_step_mem = 'per-step-mem.csv'\n",
    "    Perf_step = 'perf-step.csv'\n",
    "    \n",
    "class Algo(Enum):\n",
    "    # DS = 'ds_nogc'\n",
    "    BDS = 'ds_bounded'\n",
    "    SDS = 'ds'\n",
    "    PF = 'particles'\n",
    "    \n",
    "class Example(Enum):\n",
    "    BetaBernoulli = 'coin'\n",
    "    Gaussian = 'gaussian'\n",
    "    Kalman = 'kalman'\n",
    "    Outlier = 'outlier'\n",
    "    Robot = 'tracker'\n",
    "    Slam = 'slam'\n",
    "    Mtt = 'mtt'\n",
    "    \n",
    "class Data:\n",
    "    def __init__(self, example, algo, kind):\n",
    "        self.filename = os.path.join('..', example.value, algo.value, kind.value)\n",
    "        self.file = None\n",
    "        \n",
    "    def __enter__(self):\n",
    "        self.file = open(self.filename, 'r')\n",
    "        header = [h.strip() for h in self.file.readline().split(',')]\n",
    "        return csv.DictReader(self.file, fieldnames=header, quoting=csv.QUOTE_NONNUMERIC)\n",
    "    \n",
    "    def __exit__(self, exc_type, exc_value, exc_traceback):\n",
    "        self.file.close()"
   ]
  },
  {
   "cell_type": "code",
   "execution_count": 3,
   "metadata": {},
   "outputs": [],
   "source": [
    "def get_baseline(example, algo=Algo.SDS, particles=500):\n",
    "    with Data(example, algo, Kind.Acc) as accuracy, Data(example, algo, Kind.Perf) as perf:\n",
    "        acc = next(row['median'] for row in accuracy if row['particles'] == particles)\n",
    "        perf = next(row['median'] for row in perf if row['particles'] == particles)\n",
    "        return acc, perf"
   ]
  },
  {
   "cell_type": "code",
   "execution_count": 4,
   "metadata": {},
   "outputs": [],
   "source": [
    "def get_crossing_point(example, algo, baseline={}):\n",
    "    b_acc, b_perf = get_baseline(example, **baseline)\n",
    "    with Data(example, algo, Kind.Acc) as accuracy, Data(example, algo, Kind.Perf) as perf:\n",
    "        try:\n",
    "            cond = lambda x: abs(log10(x) - log10(b_acc)) <= 0.5\n",
    "            particles = next(row['particles'] for row in accuracy if cond(row['upper quantile']))\n",
    "            lower, median, upper = next(\n",
    "                (row['time in ms lower quantile'], row['median'], row['upper quantile'])\n",
    "                for row in perf if row['particles'] == particles)\n",
    "        except StopIteration:\n",
    "            cond = lambda x: x >= b_perf * 10.\n",
    "            particles, lower, median, upper = next(\n",
    "                (-row['particles'], row['time in ms lower quantile'], row['median'], row['upper quantile'])  \n",
    "                for row in perf if cond(row['median']))\n",
    "        return particles, lower, median, upper"
   ]
  },
  {
   "cell_type": "code",
   "execution_count": 5,
   "metadata": {},
   "outputs": [],
   "source": [
    "def get_results(baseline={}):\n",
    "    res = {}\n",
    "    for example in Example:\n",
    "        res[example.name] = {}\n",
    "        for algo in Algo:\n",
    "            try:\n",
    "                (particles, lower, median, upper) = get_crossing_point(example, algo, baseline)\n",
    "            except (StopIteration, IOError):\n",
    "                (particles, lower, mean, upper) = 0, 0, 0, 0\n",
    "            res[example.name][algo.name] = {\n",
    "                'particles': particles,\n",
    "                'lower': lower,\n",
    "                'median': median,\n",
    "                'upper': upper }\n",
    "    return res"
   ]
  },
  {
   "cell_type": "code",
   "execution_count": 6,
   "metadata": {},
   "outputs": [],
   "source": [
    "def plot(results): \n",
    "    barWidth = 0.25\n",
    " \n",
    "    bars1 = [results[ex.name]['PF']['median'] for ex in Example]\n",
    "    bars2 = [results[ex.name]['BDS']['median'] for ex in Example]\n",
    "    bars3 = [results[ex.name]['SDS']['median'] for ex in Example]\n",
    " \n",
    "    r1 = np.arange(len(bars1))\n",
    "    r2 = [x + barWidth for x in r1]\n",
    "    r3 = [x + barWidth for x in r2]\n",
    " \n",
    "    plt.bar(r1, bars1, width=barWidth, edgecolor='white', alpha=0.75)\n",
    "    plt.bar(r2, bars2, width=barWidth, edgecolor='white', alpha=0.75)\n",
    "    plt.bar(r3, bars3, width=barWidth, edgecolor='white', alpha=0.75)\n",
    " \n",
    "    plt.xticks([r + barWidth for r in range(len(bars1))], [ex.name for ex in Example])\n",
    "    plt.yscale('log')\n",
    "    plt.xticks(rotation=30)\n",
    "    \n",
    "    plt.show()"
   ]
  },
  {
   "cell_type": "code",
   "execution_count": 7,
   "metadata": {},
   "outputs": [
    {
     "name": "stdout",
     "output_type": "stream",
     "text": [
      "{'BetaBernoulli': {'BDS': 200.0, 'PF': 200.0, 'SDS': 1.0},\n",
      " 'Gaussian': {'BDS': 750.0, 'PF': 3000.0, 'SDS': 150.0},\n",
      " 'Kalman': {'BDS': 1.0, 'PF': 15.0, 'SDS': 1.0},\n",
      " 'Mtt': {'BDS': 0, 'PF': 4500.0, 'SDS': 45.0},\n",
      " 'Outlier': {'BDS': 65.0, 'PF': 650.0, 'SDS': 65.0},\n",
      " 'Robot': {'BDS': 8.0, 'PF': 85.0, 'SDS': 1.0},\n",
      " 'Slam': {'BDS': -6500.0, 'PF': -15000.0, 'SDS': 700.0}}\n"
     ]
    },
    {
     "data": {
      "image/png": "[encoded data removed]",
      "text/plain": [
       "<Figure size 432x288 with 1 Axes>"
      ]
     },
     "metadata": {
      "needs_background": "light"
     },
     "output_type": "display_data"
    }
   ],
   "source": [
    "results = get_results()\n",
    "pprint({ex: {algo: results[ex][algo]['particles'] for algo in results[ex]} for ex in results})\n",
    "plot(results)"
   ]
  },
  {
   "cell_type": "code",
   "execution_count": 8,
   "metadata": {},
   "outputs": [
    {
     "data": {
      "image/png": "[encoded data removed]",
      "text/plain": [
       "<Figure size 432x288 with 1 Axes>"
      ]
     },
     "metadata": {
      "needs_background": "light"
     },
     "output_type": "display_data"
    }
   ],
   "source": [
    "plot(get_results({'algo': Algo.PF, 'particles': 1000}))"
   ]
  },
  {
   "cell_type": "code",
   "execution_count": 9,
   "metadata": {},
   "outputs": [
    {
     "data": {
      "image/png": "[encoded data removed]",
      "text/plain": [
       "<Figure size 432x288 with 1 Axes>"
      ]
     },
     "metadata": {
      "needs_background": "light"
     },
     "output_type": "display_data"
    }
   ],
   "source": [
    "plot(get_results({'algo': Algo.PF, 'particles': 10000}))"
   ]
  },
  {
   "cell_type": "code",
   "execution_count": 10,
   "metadata": {},
   "outputs": [],
   "source": [
    "def algo_to_pgf(results, algo):\n",
    "    exs = {'BetaBernoulli': 'Beta-Bernoulli',\n",
    "           'Gaussian': 'Gaussian-Gaussian',\n",
    "           'Kalman': 'Kalman-1D',\n",
    "           'Outlier': 'Outlier',\n",
    "           'Robot': 'Robot',\n",
    "           'Slam': 'SLAM',\n",
    "           'Mtt': 'MTT' }\n",
    "    print(\"x\\ty\\ty-min\\ty-max\\tp\")\n",
    "    for x in results:\n",
    "        y = results[x][algo.name]['median']\n",
    "        y_max = results[x][algo.name]['upper'] -  y\n",
    "        y_min = y - results[x][algo.name]['lower']\n",
    "        p = int(results[x][algo.name]['particles'])\n",
    "        if p >= 0:\n",
    "            print(f\"{exs[x]}\\t{y}\\t{y_min}\\t{y_max}\\t{p:,d}\")\n",
    "        else:\n",
    "            print(f\"{exs[x]}\\t{200000}\\t{0.0}\\t{0.0}\\t{{> {-p:,d}\\phantom{{X}}}}\")\n",
    "            \n",
    "        \n",
    "def to_pgf(results):\n",
    "    algs = {'PF': '\\particles', 'SDS': '\\sds', 'BDS': '\\\\bds'}\n",
    "    for algo in Algo:\n",
    "        print(\"\\pgfplotstableread{\")\n",
    "        algo_to_pgf(results, algo)\n",
    "        print(f\"}}{{{algs[algo.name]}}}\\n\")"
   ]
  },
  {
   "cell_type": "code",
   "execution_count": 11,
   "metadata": {},
   "outputs": [
    {
     "name": "stdout",
     "output_type": "stream",
     "text": [
      "\\pgfplotstableread{\n",
      "x\ty\ty-min\ty-max\tp\n",
      "Beta-Bernoulli\t40.965897\t0.7262259999999969\t1.0591480000000004\t200\n",
      "Gaussian-Gaussian\t331.4194\t11.802225000000021\t9.193825000000004\t750\n",
      "Kalman-1D\t0.351831\t0.0018060000000000298\t0.025310999999999972\t1\n",
      "Outlier\t32.408477\t0.3080449999999999\t0.972565000000003\t65\n",
      "Robot\t225.480535\t7.782234000000017\t20.335026\t8\n",
      "SLAM\t200000\t0.0\t0.0\t{> 6,500\\phantom{X}}\n",
      "MTT\t21279.041365\t21279.041365\t-21279.041365\t0\n",
      "}{\\bds}\n",
      "\n",
      "\\pgfplotstableread{\n",
      "x\ty\ty-min\ty-max\tp\n",
      "Beta-Bernoulli\t0.478769\t0.01849400000000001\t0.08760500000000004\t1\n",
      "Gaussian-Gaussian\t62.674843\t2.6271850000000043\t2.361094999999999\t150\n",
      "Kalman-1D\t0.309388\t0.006307000000000007\t0.021992999999999985\t1\n",
      "Outlier\t44.302562\t0.7344000000000008\t2.684731999999997\t65\n",
      "Robot\t66.467892\t2.241127000000006\t19.212818\t1\n",
      "SLAM\t2066.227669\t376.7682419999999\t377.5444080000002\t700\n",
      "MTT\t2717.556621\t453.6930390000002\t747.346642\t45\n",
      "}{\\sds}\n",
      "\n",
      "\\pgfplotstableread{\n",
      "x\ty\ty-min\ty-max\tp\n",
      "Beta-Bernoulli\t22.350183\t0.615006000000001\t1.002883999999998\t200\n",
      "Gaussian-Gaussian\t925.274135\t138.263009\t60.10153200000002\t3,000\n",
      "Kalman-1D\t3.111199\t0.0440520000000002\t1.8031040000000003\t15\n",
      "Outlier\t198.834664\t1.7712370000000135\t3.006056000000001\t650\n",
      "Robot\t730.812362\t104.82513900000004\t54.05943300000001\t85\n",
      "SLAM\t200000\t0.0\t0.0\t{> 15,000\\phantom{X}}\n",
      "MTT\t71895.554069\t2078.372886000012\t2209.4735399999918\t4,500\n",
      "}{\\particles}\n",
      "\n"
     ]
    }
   ],
   "source": [
    "to_pgf(results)"
   ]
  },
  {
   "cell_type": "code",
   "execution_count": null,
   "metadata": {},
   "outputs": [],
   "source": []
  }
 ],
 "metadata": {
  "kernelspec": {
   "display_name": "Python 3",
   "language": "python",
   "name": "python3"
  },
  "language_info": {
   "codemirror_mode": {
    "name": "ipython",
    "version": 3
   },
   "file_extension": ".py",
   "mimetype": "text/x-python",
   "name": "python",
   "nbconvert_exporter": "python",
   "pygments_lexer": "ipython3",
   "version": "3.7.1"
  }
 },
 "nbformat": 4,
 "nbformat_minor": 2
}
