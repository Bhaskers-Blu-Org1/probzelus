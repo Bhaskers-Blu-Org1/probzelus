{
 "cells": [
  {
   "cell_type": "code",
   "execution_count": 1,
   "metadata": {},
   "outputs": [],
   "source": [
    "import csv\n",
    "import os\n",
    "from math import log10, inf\n",
    "from enum import Enum\n",
    "import numpy as np\n",
    "import matplotlib.pyplot as plt\n",
    "from pprint import pprint"
   ]
  },
  {
   "cell_type": "code",
   "execution_count": 2,
   "metadata": {},
   "outputs": [],
   "source": [
    "class Kind(Enum):\n",
    "    Acc = 'accuracy.csv'\n",
    "    Mem = 'mem-ideal.csv'\n",
    "    Perf = 'perf.csv'\n",
    "    Per_particle = 'per-particles.csv'\n",
    "    Per_step = 'per-step.csv'\n",
    "    Per_step_mem = 'per-step-mem.csv'\n",
    "    Perf_step = 'perf-step.csv'\n",
    "    \n",
    "class Algo(Enum):\n",
    "    # DS = 'ds_nogc'\n",
    "    BDS = 'ds_bounded'\n",
    "    SDS = 'ds'\n",
    "    PF = 'particles'\n",
    "    \n",
    "class Example(Enum):\n",
    "    BetaBernoulli = 'coin'\n",
    "    Gaussian = 'gaussian'\n",
    "    Kalman = 'kalman'\n",
    "    Outlier = 'outlier'\n",
    "    Robot = 'tracker'\n",
    "    Slam = 'slam'\n",
    "    Mtt = 'mtt'\n",
    "    \n",
    "class Data:\n",
    "    def __init__(self, example, algo, kind):\n",
    "        self.filename = os.path.join('..', example.value, algo.value, kind.value)\n",
    "        self.file = None\n",
    "        \n",
    "    def __enter__(self):\n",
    "        self.file = open(self.filename, 'r')\n",
    "        header = [h.strip() for h in self.file.readline().split(',')]\n",
    "        return csv.DictReader(self.file, fieldnames=header, quoting=csv.QUOTE_NONNUMERIC)\n",
    "    \n",
    "    def __exit__(self, exc_type, exc_value, exc_traceback):\n",
    "        self.file.close()"
   ]
  },
  {
   "cell_type": "code",
   "execution_count": 3,
   "metadata": {},
   "outputs": [],
   "source": [
    "def get_baseline(example, algo=Algo.SDS, particles=500):\n",
    "    with Data(example, algo, Kind.Acc) as accuracy:\n",
    "        return next(row['median'] for row in accuracy if row['particles'] == particles)"
   ]
  },
  {
   "cell_type": "code",
   "execution_count": 4,
   "metadata": {},
   "outputs": [],
   "source": [
    "def get_crossing_point(example, algo, baseline={}):\n",
    "    b_acc = get_baseline(example, **baseline)\n",
    "    with Data(example, algo, Kind.Acc) as accuracy:\n",
    "        cond = lambda x: abs(log10(x) - log10(b_acc)) <= 0.5\n",
    "        return next(row['particles'] for row in accuracy if cond(row['upper quantile']))"
   ]
  },
  {
   "cell_type": "code",
   "execution_count": 5,
   "metadata": {},
   "outputs": [],
   "source": [
    "def get_perf(example, algo, baseline={}):\n",
    "    crossing_point = get_crossing_point(example, algo, baseline)\n",
    "    with Data(example, algo, Kind.Perf) as perf:\n",
    "        return next((crossing_point, row['time in ms lower quantile'], row['median'], row['upper quantile'])\n",
    "                     for row in perf if row['particles'] == crossing_point)"
   ]
  },
  {
   "cell_type": "code",
   "execution_count": 6,
   "metadata": {},
   "outputs": [],
   "source": [
    "def get_results(baseline={}):\n",
    "    res = {}\n",
    "    for algo in Algo:\n",
    "        res[algo.name] = {\n",
    "            'particles': [], \n",
    "            'mean': [],\n",
    "            'lower': [], \n",
    "            'upper': []\n",
    "            }\n",
    "        for example in Example:\n",
    "            try:\n",
    "                (particles, lower, mean, upper) = get_perf(example, algo, baseline)\n",
    "            except StopIteration:\n",
    "                (particles, lower, mean, upper) = 0, 0, 100000, 0\n",
    "            res[algo.name]['particles'].append(particles)\n",
    "            res[algo.name]['lower'].append(lower)\n",
    "            res[algo.name]['mean'].append(mean)\n",
    "            res[algo.name]['upper'].append(upper)\n",
    "    return res"
   ]
  },
  {
   "cell_type": "code",
   "execution_count": 7,
   "metadata": {},
   "outputs": [],
   "source": [
    "def plot(results): \n",
    "    barWidth = 0.25\n",
    " \n",
    "    bars1 = results['PF']['mean']\n",
    "    bars2 = results['BDS']['mean']\n",
    "    bars3 = results['SDS']['mean']\n",
    " \n",
    "    r1 = np.arange(len(bars1))\n",
    "    r2 = [x + barWidth for x in r1]\n",
    "    r3 = [x + barWidth for x in r2]\n",
    " \n",
    "    plt.bar(r1, bars1, width=barWidth, edgecolor='white', alpha=0.75)\n",
    "    plt.bar(r2, bars2, width=barWidth, edgecolor='white', alpha=0.75)\n",
    "    plt.bar(r3, bars3, width=barWidth, edgecolor='white', alpha=0.75)\n",
    " \n",
    "    plt.xticks([r + barWidth for r in range(len(bars1))], [ex.name for ex in Example])\n",
    "    plt.yscale('log')\n",
    "    plt.xticks(rotation=30)\n",
    "    \n",
    "    plt.show()"
   ]
  },
  {
   "cell_type": "code",
   "execution_count": 8,
   "metadata": {},
   "outputs": [
    {
     "name": "stdout",
     "output_type": "stream",
     "text": [
      "{'BDS': [200.0, 750.0, 1.0, 65.0, 8.0, 0, 0],\n",
      " 'PF': [200.0, 3000.0, 15.0, 650.0, 85.0, 0, 0],\n",
      " 'SDS': [1.0, 150.0, 1.0, 65.0, 1.0, 700.0, 0]}\n"
     ]
    },
    {
     "data": {
      "image/png": "[encoded data removed]",
      "text/plain": [
       "<Figure size 432x288 with 1 Axes>"
      ]
     },
     "metadata": {
      "needs_background": "light"
     },
     "output_type": "display_data"
    }
   ],
   "source": [
    "results = get_results()\n",
    "pprint({algo: results[algo]['particles'] for algo in results})\n",
    "plot(results)"
   ]
  },
  {
   "cell_type": "code",
   "execution_count": 9,
   "metadata": {},
   "outputs": [
    {
     "data": {
      "image/png": "[encoded data removed]",
      "text/plain": [
       "<Figure size 432x288 with 1 Axes>"
      ]
     },
     "metadata": {
      "needs_background": "light"
     },
     "output_type": "display_data"
    }
   ],
   "source": [
    "plot(get_results({'algo': Algo.PF, 'particles': 1000}))"
   ]
  },
  {
   "cell_type": "code",
   "execution_count": 10,
   "metadata": {},
   "outputs": [
    {
     "data": {
      "image/png": "[encoded data removed]",
      "text/plain": [
       "<Figure size 432x288 with 1 Axes>"
      ]
     },
     "metadata": {
      "needs_background": "light"
     },
     "output_type": "display_data"
    }
   ],
   "source": [
    "plot(get_results({'algo': Algo.PF, 'particles': 10000}))"
   ]
  },
  {
   "cell_type": "code",
   "execution_count": null,
   "metadata": {},
   "outputs": [],
   "source": []
  }
 ],
 "metadata": {
  "kernelspec": {
   "display_name": "Python 3",
   "language": "python",
   "name": "python3"
  },
  "language_info": {
   "codemirror_mode": {
    "name": "ipython",
    "version": 3
   },
   "file_extension": ".py",
   "mimetype": "text/x-python",
   "name": "python",
   "nbconvert_exporter": "python",
   "pygments_lexer": "ipython3",
   "version": "3.7.1"
  }
 },
 "nbformat": 4,
 "nbformat_minor": 2
}
